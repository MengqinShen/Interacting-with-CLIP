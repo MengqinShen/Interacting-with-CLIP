{
 "cells": [
  {
   "cell_type": "code",
   "execution_count": 11,
   "id": "d5ef93fe-93ad-4691-b516-7da745ce40d2",
   "metadata": {},
   "outputs": [
    {
     "name": "stdout",
     "output_type": "stream",
     "text": [
      "Requirement already satisfied: ftfy in c:\\users\\zhemi\\anaconda3\\lib\\site-packages (6.3.1)\n",
      "Requirement already satisfied: regex in c:\\users\\zhemi\\anaconda3\\lib\\site-packages (2023.10.3)\n",
      "Requirement already satisfied: tqdm in c:\\users\\zhemi\\anaconda3\\lib\\site-packages (4.65.0)\n",
      "Requirement already satisfied: wcwidth in c:\\users\\zhemi\\anaconda3\\lib\\site-packages (from ftfy) (0.2.5)\n",
      "Requirement already satisfied: colorama in c:\\users\\zhemi\\anaconda3\\lib\\site-packages (from tqdm) (0.4.6)\n",
      "Collecting git+https://github.com/openai/CLIP\n",
      "  Cloning https://github.com/openai/CLIP to c:\\users\\zhemi\\appdata\\local\\temp\\pip-req-build-yw6op28d\n",
      "  Resolved https://github.com/openai/CLIP to commit dcba3cb2e2827b402d2701e7e1c7d9fed8a20ef1\n",
      "  Preparing metadata (setup.py): started\n",
      "  Preparing metadata (setup.py): finished with status 'done'\n",
      "Requirement already satisfied: ftfy in c:\\users\\zhemi\\anaconda3\\lib\\site-packages (from clip==1.0) (6.3.1)\n",
      "Requirement already satisfied: packaging in c:\\users\\zhemi\\anaconda3\\lib\\site-packages (from clip==1.0) (23.1)\n",
      "Requirement already satisfied: regex in c:\\users\\zhemi\\anaconda3\\lib\\site-packages (from clip==1.0) (2023.10.3)\n",
      "Requirement already satisfied: tqdm in c:\\users\\zhemi\\anaconda3\\lib\\site-packages (from clip==1.0) (4.65.0)\n",
      "Requirement already satisfied: torch in c:\\users\\zhemi\\anaconda3\\lib\\site-packages (from clip==1.0) (2.5.1)\n",
      "Requirement already satisfied: torchvision in c:\\users\\zhemi\\anaconda3\\lib\\site-packages (from clip==1.0) (0.20.1)\n",
      "Requirement already satisfied: wcwidth in c:\\users\\zhemi\\anaconda3\\lib\\site-packages (from ftfy->clip==1.0) (0.2.5)\n",
      "Requirement already satisfied: filelock in c:\\users\\zhemi\\anaconda3\\lib\\site-packages (from torch->clip==1.0) (3.13.1)\n",
      "Requirement already satisfied: typing-extensions>=4.8.0 in c:\\users\\zhemi\\anaconda3\\lib\\site-packages (from torch->clip==1.0) (4.9.0)\n",
      "Requirement already satisfied: networkx in c:\\users\\zhemi\\anaconda3\\lib\\site-packages (from torch->clip==1.0) (3.1)\n",
      "Requirement already satisfied: jinja2 in c:\\users\\zhemi\\anaconda3\\lib\\site-packages (from torch->clip==1.0) (3.1.3)\n",
      "Requirement already satisfied: fsspec in c:\\users\\zhemi\\anaconda3\\lib\\site-packages (from torch->clip==1.0) (2023.10.0)\n",
      "Requirement already satisfied: sympy==1.13.1 in c:\\users\\zhemi\\anaconda3\\lib\\site-packages (from torch->clip==1.0) (1.13.1)\n",
      "Requirement already satisfied: mpmath<1.4,>=1.1.0 in c:\\users\\zhemi\\anaconda3\\lib\\site-packages (from sympy==1.13.1->torch->clip==1.0) (1.3.0)\n",
      "Requirement already satisfied: numpy in c:\\users\\zhemi\\anaconda3\\lib\\site-packages (from torchvision->clip==1.0) (1.26.4)\n",
      "Requirement already satisfied: pillow!=8.3.*,>=5.3.0 in c:\\users\\zhemi\\anaconda3\\lib\\site-packages (from torchvision->clip==1.0) (10.2.0)\n",
      "Requirement already satisfied: colorama in c:\\users\\zhemi\\anaconda3\\lib\\site-packages (from tqdm->clip==1.0) (0.4.6)\n",
      "Requirement already satisfied: MarkupSafe>=2.0 in c:\\users\\zhemi\\anaconda3\\lib\\site-packages (from jinja2->torch->clip==1.0) (2.1.3)\n",
      "Building wheels for collected packages: clip\n",
      "  Building wheel for clip (setup.py): started\n",
      "  Building wheel for clip (setup.py): finished with status 'done'\n",
      "  Created wheel for clip: filename=clip-1.0-py3-none-any.whl size=1369571 sha256=e5822ad09ac4222cf0cc029565455d1070f8b8918f37e58296b085c4d542c811\n",
      "  Stored in directory: C:\\Users\\zhemi\\AppData\\Local\\Temp\\pip-ephem-wheel-cache-podc8i6r\\wheels\\40\\b1\\fa\\eb240efa56b0a24e57951f90587da63653068b39e53e176cc5\n",
      "Successfully built clip\n",
      "Installing collected packages: clip\n",
      "Successfully installed clip-1.0\n"
     ]
    },
    {
     "name": "stderr",
     "output_type": "stream",
     "text": [
      "  Running command git clone --filter=blob:none --quiet https://github.com/openai/CLIP 'C:\\Users\\zhemi\\AppData\\Local\\Temp\\pip-req-build-yw6op28d'\n"
     ]
    }
   ],
   "source": [
    "!pip install ftfy regex tqdm\n",
    "!pip install git+https://github.com/openai/CLIP"
   ]
  },
  {
   "cell_type": "code",
   "execution_count": 25,
   "id": "e352c022-6d7f-491c-97e8-a5a606cec1a1",
   "metadata": {},
   "outputs": [],
   "source": [
    "import numpy as np \n",
    "import torch \n",
    "import clip\n",
    "from PIL import Image\n",
    "device = \"cuda\" if torch.cuda.is_available() else \"cpu\"\n",
    "model, preprocess = clip.load(\"ViT-B/32\", device=device)"
   ]
  },
  {
   "cell_type": "code",
   "execution_count": 33,
   "id": "3dacdfa7-64c1-4ded-954b-8bc2b864d976",
   "metadata": {},
   "outputs": [
    {
     "name": "stdout",
     "output_type": "stream",
     "text": [
      "Labes probs: [[0.2961409  0.35774392 0.25085166 0.09526341]]\n"
     ]
    }
   ],
   "source": [
    "image = preprocess(Image.open(\"C:/Users/zhemi/Documents/Elisa/ML_related/red_envelope.jpeg\")).unsqueeze(0).to(device)\n",
    "text = clip.tokenize([\"plane\",\"dog\",\"car\",\"bird\"]).to(device)\n",
    "with torch.no_grad():\n",
    "    image_features = model.encode_image(image)\n",
    "    text_feature = model.encode_text(text)\n",
    "\n",
    "    logits_per_image, logits_per_text = model(image, text)\n",
    "    probs = logits_per_image.softmax(dim=-1).cpu().numpy()\n",
    "\n",
    "print(\"Labes probs:\", probs)"
   ]
  },
  {
   "cell_type": "code",
   "execution_count": 45,
   "id": "d3307e97-aacf-4ed2-bedb-37ca99a472c9",
   "metadata": {},
   "outputs": [
    {
     "name": "stdout",
     "output_type": "stream",
     "text": [
      "Labes probs: [[1.0065732e-07 1.2159597e-07 8.5263650e-08 3.2379717e-08 9.9999964e-01]]\n"
     ]
    }
   ],
   "source": [
    "image = preprocess(Image.open(\"C:/Users/zhemi/Documents/Elisa/ML_related/red_envelope.jpeg\")).unsqueeze(0).to(device)\n",
    "text = clip.tokenize([\"plane\",\"dog\",\"car\",\"bird\",\"red envelope\"]).to(device)\n",
    "with torch.no_grad():\n",
    "    image_features = model.encode_image(image)\n",
    "    text_feature = model.encode_text(text)\n",
    "\n",
    "    logits_per_image, logits_per_text = model(image, text)\n",
    "    probs = logits_per_image.softmax(dim=-1).cpu().numpy()\n",
    "\n",
    "print(\"Labes probs:\", probs)"
   ]
  },
  {
   "cell_type": "code",
   "execution_count": 47,
   "id": "29c4d6e0-35f8-4843-9dd8-f8726e077fdc",
   "metadata": {},
   "outputs": [
    {
     "name": "stdout",
     "output_type": "stream",
     "text": [
      "Labes probs: [[1.0065192e-07 5.3744210e-05 8.5259074e-08 3.2377979e-08 9.9994600e-01]]\n"
     ]
    }
   ],
   "source": [
    "image = preprocess(Image.open(\"C:/Users/zhemi/Documents/Elisa/ML_related/red_envelope.jpeg\")).unsqueeze(0).to(device)\n",
    "text = clip.tokenize([\"plane\",\"money\",\"car\",\"bird\",\"red envelope\"]).to(device)\n",
    "with torch.no_grad():\n",
    "    image_features = model.encode_image(image)\n",
    "    text_feature = model.encode_text(text)\n",
    "\n",
    "    logits_per_image, logits_per_text = model(image, text)\n",
    "    probs = logits_per_image.softmax(dim=-1).cpu().numpy()\n",
    "\n",
    "print(\"Labes probs:\", probs)"
   ]
  },
  {
   "cell_type": "code",
   "execution_count": 49,
   "id": "35611f96-d47e-46b2-978f-39db3384f15c",
   "metadata": {},
   "outputs": [
    {
     "name": "stdout",
     "output_type": "stream",
     "text": [
      "Labes probs: [[1.6457561e-03 8.7876976e-01 1.3940682e-03 5.2941125e-04 1.1766097e-01]]\n"
     ]
    }
   ],
   "source": [
    "image = preprocess(Image.open(\"C:/Users/zhemi/Documents/Elisa/ML_related/red_envelope.jpeg\")).unsqueeze(0).to(device)\n",
    "text = clip.tokenize([\"plane\",\"money\",\"car\",\"bird\",\"China\"]).to(device)\n",
    "with torch.no_grad():\n",
    "    image_features = model.encode_image(image)\n",
    "    text_feature = model.encode_text(text)\n",
    "\n",
    "    logits_per_image, logits_per_text = model(image, text)\n",
    "    probs = logits_per_image.softmax(dim=-1).cpu().numpy()\n",
    "\n",
    "print(\"Labes probs:\", probs)"
   ]
  },
  {
   "cell_type": "code",
   "execution_count": 53,
   "id": "4f9722d9-b943-44e1-8873-47201411a077",
   "metadata": {},
   "outputs": [
    {
     "name": "stdout",
     "output_type": "stream",
     "text": [
      "Labes probs: [[1.0053110e-07 5.3679596e-05 8.5156415e-08 3.2339116e-08 9.9873811e-01\n",
      "  7.1873546e-06 1.2007835e-03]]\n"
     ]
    }
   ],
   "source": [
    "image = preprocess(Image.open(\"C:/Users/zhemi/Documents/Elisa/ML_related/red_envelope.jpeg\")).unsqueeze(0).to(device)\n",
    "text = clip.tokenize([\"plane\",\"money\",\"car\",\"bird\",\"red envelope\",\"China\",\"envelope\"]).to(device)\n",
    "with torch.no_grad():\n",
    "    image_features = model.encode_image(image)\n",
    "    text_feature = model.encode_text(text)\n",
    "\n",
    "    logits_per_image, logits_per_text = model(image, text)\n",
    "    probs = logits_per_image.softmax(dim=-1).cpu().numpy()\n",
    "\n",
    "print(\"Labes probs:\", probs)"
   ]
  },
  {
   "cell_type": "code",
   "execution_count": null,
   "id": "d90e46b3-f5c6-412f-a66b-397a743ad674",
   "metadata": {},
   "outputs": [],
   "source": []
  }
 ],
 "metadata": {
  "kernelspec": {
   "display_name": "Python 3 (ipykernel)",
   "language": "python",
   "name": "python3"
  },
  "language_info": {
   "codemirror_mode": {
    "name": "ipython",
    "version": 3
   },
   "file_extension": ".py",
   "mimetype": "text/x-python",
   "name": "python",
   "nbconvert_exporter": "python",
   "pygments_lexer": "ipython3",
   "version": "3.11.10"
  }
 },
 "nbformat": 4,
 "nbformat_minor": 5
}
